{
 "cells": [
  {
   "cell_type": "markdown",
   "metadata": {},
   "source": [
    "# Unit 5 - Financial Planning\n"
   ]
  },
  {
   "cell_type": "code",
   "execution_count": 2,
   "metadata": {},
   "outputs": [],
   "source": [
    "# Initial imports\n",
    "import os\n",
    "import requests\n",
    "import json\n",
    "import pandas as pd\n",
    "from dotenv import load_dotenv\n",
    "from dotenv import get_key\n",
    "import alpaca_trade_api as tradeapi\n",
    "from MCForecastTools import MCSimulation\n",
    "\n",
    "%matplotlib inline"
   ]
  },
  {
   "cell_type": "code",
   "execution_count": 3,
   "metadata": {},
   "outputs": [
    {
     "data": {
      "text/plain": [
       "True"
      ]
     },
     "execution_count": 3,
     "metadata": {},
     "output_type": "execute_result"
    }
   ],
   "source": [
    "# Load .env enviroment variables\n",
    "load_dotenv()"
   ]
  },
  {
   "cell_type": "markdown",
   "metadata": {},
   "source": [
    "## Part 1 - Personal Finance Planner"
   ]
  },
  {
   "cell_type": "markdown",
   "metadata": {},
   "source": [
    "### Collect Crypto Prices Using the `requests` Library"
   ]
  },
  {
   "cell_type": "markdown",
   "metadata": {},
   "source": [
    "Part 1 - Personal Finance Planner\n",
    "In this section of the challenge, you will create a personal finance planner application. To develop the personal finance planner prototype, you should take into account the following assumptions:\n",
    "\n",
    "The average household income for each member of the credit union is $12,000.\n",
    "\n",
    "Every union member has a savings portfolio composed of cryptocurrencies, stocks and bonds:\n",
    "\n",
    "Assume the following amount of crypto assets: 1.2 BTC and 5.3 ETH.\n",
    "\n",
    "Assume the following amount of shares in stocks and bonds: 50 SPY (stocks) and 200 AGG (bonds).\n"
   ]
  },
  {
   "cell_type": "code",
   "execution_count": 5,
   "metadata": {},
   "outputs": [],
   "source": [
    "# Set current amount of crypto assets\n",
    "my_btc = 1.2\n",
    "my_eth = 5.3\n",
    "\n",
    "#Monthly house hold icome\n",
    "monthly_income = 12000"
   ]
  },
  {
   "cell_type": "code",
   "execution_count": 6,
   "metadata": {},
   "outputs": [],
   "source": [
    "# Crypto API URLs\n",
    "btc_url = \"https://api.alternative.me/v2/ticker/Bitcoin/?convert=CAD\"\n",
    "eth_url = \"https://api.alternative.me/v2/ticker/Ethereum/?convert=CAD\""
   ]
  },
  {
   "cell_type": "code",
   "execution_count": 7,
   "metadata": {},
   "outputs": [
    {
     "name": "stdout",
     "output_type": "stream",
     "text": [
      "The current value of your 1.2 BTC is $13683.00\n",
      "The current value of your 5.3 ETH is $2025.29\n",
      "15708.289\n"
     ]
    }
   ],
   "source": [
    "# Fetch current BTC price\n",
    "btc_data = requests.get(btc_url).json()\n",
    "btc_price = btc_data['data']['1'][\"quotes\"]['USD']['price']\n",
    "# YOUR CODE HERE!\n",
    "\n",
    "# Fetch current ETH price\n",
    "eth_data = requests.get(eth_url).json()\n",
    "eth_price = eth_data['data']['1027'][\"quotes\"]['USD']['price']\n",
    "# YOUR CODE HERE!]\n",
    "\n",
    "# Compute current value of my crpto\n",
    "btc_value = my_btc * btc_price\n",
    "eth_value = my_eth * eth_price\n",
    "\n",
    "# YOUR CODE HERE!\n",
    "\n",
    "# Print current crypto wallet balance\n",
    "print(f\"The current value of your {my_btc} BTC is ${btc_value:0.2f}\")\n",
    "print(f\"The current value of your {my_eth} ETH is ${eth_value:0.2f}\")\n",
    "\n",
    "# Print total crypto value\n",
    "total_crypto_value = btc_value + eth_value\n",
    "print(total_crypto_value)"
   ]
  },
  {
   "cell_type": "markdown",
   "metadata": {},
   "source": [
    "### Collect Investments Data Using Alpaca: `SPY` (stocks) and `AGG` (bonds)"
   ]
  },
  {
   "cell_type": "code",
   "execution_count": 8,
   "metadata": {},
   "outputs": [],
   "source": [
    "# Current amount of shares\n",
    "my_agg = 200\n",
    "my_spy = 50"
   ]
  },
  {
   "cell_type": "code",
   "execution_count": 10,
   "metadata": {},
   "outputs": [],
   "source": [
    "# Set Alpaca API key and secret\n",
    "alpaca_api_key = os.getenv(\"ALPACA_API_KEY\")\n",
    "alpaca_secret_key = os.getenv(\"ALPACA_SECRET_KEY\")\n",
    "type(alpaca_api_key)\n",
    "\n",
    "# Create the Alpaca API object\n",
    "alpaca = tradeapi.REST(alpaca_api_key,alpaca_secret_key,api_version=\"v2\")"
   ]
  },
  {
   "cell_type": "code",
   "execution_count": 15,
   "metadata": {},
   "outputs": [
    {
     "data": {
      "text/html": [
       "<div>\n",
       "<style scoped>\n",
       "    .dataframe tbody tr th:only-of-type {\n",
       "        vertical-align: middle;\n",
       "    }\n",
       "\n",
       "    .dataframe tbody tr th {\n",
       "        vertical-align: top;\n",
       "    }\n",
       "\n",
       "    .dataframe thead tr th {\n",
       "        text-align: left;\n",
       "    }\n",
       "</style>\n",
       "<table border=\"1\" class=\"dataframe\">\n",
       "  <thead>\n",
       "    <tr>\n",
       "      <th></th>\n",
       "      <th colspan=\"5\" halign=\"left\">AGG</th>\n",
       "      <th colspan=\"5\" halign=\"left\">SPY</th>\n",
       "    </tr>\n",
       "    <tr>\n",
       "      <th></th>\n",
       "      <th>open</th>\n",
       "      <th>high</th>\n",
       "      <th>low</th>\n",
       "      <th>close</th>\n",
       "      <th>volume</th>\n",
       "      <th>open</th>\n",
       "      <th>high</th>\n",
       "      <th>low</th>\n",
       "      <th>close</th>\n",
       "      <th>volume</th>\n",
       "    </tr>\n",
       "  </thead>\n",
       "  <tbody>\n",
       "    <tr>\n",
       "      <th>2020-10-09 00:00:00-04:00</th>\n",
       "      <td>117.65</td>\n",
       "      <td>117.74</td>\n",
       "      <td>117.5</td>\n",
       "      <td>117.705</td>\n",
       "      <td>2750029</td>\n",
       "      <td>345.56</td>\n",
       "      <td>347.35</td>\n",
       "      <td>344.89</td>\n",
       "      <td>346.84</td>\n",
       "      <td>45969566</td>\n",
       "    </tr>\n",
       "  </tbody>\n",
       "</table>\n",
       "</div>"
      ],
      "text/plain": [
       "                              AGG                                      SPY  \\\n",
       "                             open    high    low    close   volume    open   \n",
       "2020-10-09 00:00:00-04:00  117.65  117.74  117.5  117.705  2750029  345.56   \n",
       "\n",
       "                                                             \n",
       "                             high     low   close    volume  \n",
       "2020-10-09 00:00:00-04:00  347.35  344.89  346.84  45969566  "
      ]
     },
     "execution_count": 15,
     "metadata": {},
     "output_type": "execute_result"
    }
   ],
   "source": [
    "# Format current date as ISO format\n",
    "today = pd.Timestamp(\"2020-10-09\", tz=\"America/Los_Angeles\").isoformat()\n",
    "\n",
    "# Set the tickers\n",
    "tickers = [\"AGG\", \"SPY\"]\n",
    "\n",
    "# Set timeframe to '1D' for Alpaca API\n",
    "timeframe = \"1D\"\n",
    "\n",
    "# Get current closing prices for SPY and AGG\n",
    "df_portfolio = alpaca.get_barset(\n",
    "    tickers, timeframe, start= today, end=today).df\n",
    "\n",
    "# Preview DataFrame\n",
    "df_portfolio"
   ]
  },
  {
   "cell_type": "code",
   "execution_count": 17,
   "metadata": {},
   "outputs": [
    {
     "name": "stdout",
     "output_type": "stream",
     "text": [
      "Current AGG closing price: $117.705\n",
      "Current SPY closing price: $346.84\n"
     ]
    }
   ],
   "source": [
    "# Pick AGG and SPY close prices\n",
    "agg_close_price = float(df_portfolio[\"AGG\"]['close'])\n",
    "spy_close_price = float(df_portfolio[\"SPY\"]['close'])\n",
    "\n",
    "# Print AGG and SPY close prices\n",
    "print(f\"Current AGG closing price: ${agg_close_price}\")\n",
    "print(f\"Current SPY closing price: ${spy_close_price}\")"
   ]
  },
  {
   "cell_type": "code",
   "execution_count": 18,
   "metadata": {},
   "outputs": [
    {
     "name": "stdout",
     "output_type": "stream",
     "text": [
      "The current value of your 50 SPY shares is $17342.00\n",
      "The current value of your 200 AGG shares is $23541.00\n",
      "40883.0\n"
     ]
    }
   ],
   "source": [
    "# Compute the current value of shares\n",
    "spy_value = spy_close_price * my_spy\n",
    "agg_value = agg_close_price * my_agg\n",
    "\n",
    "# Print current value of share\n",
    "print(f\"The current value of your {my_spy} SPY shares is ${spy_value:0.2f}\")\n",
    "print(f\"The current value of your {my_agg} AGG shares is ${agg_value:0.2f}\")\n",
    "\n",
    "# Print total shares value\n",
    "total_shares_value = agg_value + spy_value\n",
    "print (total_shares_value)"
   ]
  },
  {
   "cell_type": "markdown",
   "metadata": {},
   "source": [
    "### Savings Health Analysis"
   ]
  },
  {
   "cell_type": "code",
   "execution_count": 20,
   "metadata": {},
   "outputs": [
    {
     "data": {
      "text/html": [
       "<div>\n",
       "<style scoped>\n",
       "    .dataframe tbody tr th:only-of-type {\n",
       "        vertical-align: middle;\n",
       "    }\n",
       "\n",
       "    .dataframe tbody tr th {\n",
       "        vertical-align: top;\n",
       "    }\n",
       "\n",
       "    .dataframe thead th {\n",
       "        text-align: right;\n",
       "    }\n",
       "</style>\n",
       "<table border=\"1\" class=\"dataframe\">\n",
       "  <thead>\n",
       "    <tr style=\"text-align: right;\">\n",
       "      <th></th>\n",
       "      <th>Value</th>\n",
       "    </tr>\n",
       "    <tr>\n",
       "      <th></th>\n",
       "      <th></th>\n",
       "    </tr>\n",
       "  </thead>\n",
       "  <tbody>\n",
       "    <tr>\n",
       "      <th>Crypto</th>\n",
       "      <td>15708.29</td>\n",
       "    </tr>\n",
       "    <tr>\n",
       "      <th>Shares</th>\n",
       "      <td>40883.00</td>\n",
       "    </tr>\n",
       "  </tbody>\n",
       "</table>\n",
       "</div>"
      ],
      "text/plain": [
       "           Value\n",
       "                \n",
       "Crypto  15708.29\n",
       "Shares  40883.00"
      ]
     },
     "metadata": {},
     "output_type": "display_data"
    }
   ],
   "source": [
    "# Set monthly household income\n",
    "monthly_income = 12000\n",
    "\n",
    "# Create savings DataFrame\n",
    "total_crypto_value = pd.DataFrame({\"Value\": [round(btc_value + eth_value, 2)]}, index = [\"Crypto\"])\n",
    "total_shares_value = pd.DataFrame({\"Value\": [round(spy_value + agg_value, 2)]}, index = [\"Shares\"])\n",
    "\n",
    "df_savings= pd.concat([total_crypto_value, total_shares_value], axis=0)\n",
    "df_savings.reset_index(inplace = True)\n",
    "df_savings.columns=[\"\", \"Value\"]\n",
    "df_savings.set_index(\"\", inplace=True)\n",
    "df_savings.head()\n",
    "\n",
    "# Display savings DataFrame\n",
    "display(df_savings)"
   ]
  },
  {
   "cell_type": "code",
   "execution_count": 21,
   "metadata": {},
   "outputs": [
    {
     "data": {
      "text/plain": [
       "<bound method Figure.savefig of <Figure size 432x288 with 1 Axes>>"
      ]
     },
     "execution_count": 21,
     "metadata": {},
     "output_type": "execute_result"
    },
    {
     "data": {
      "image/png": "[encoded data removed]",
      "text/plain": [
       "<Figure size 432x288 with 1 Axes>"
      ]
     },
     "metadata": {},
     "output_type": "display_data"
    }
   ],
   "source": [
    "# Plot savings pie chart\n",
    "pie_chart = df_savings.plot.pie(y=\"Value\", title=\"Composition of Personal Savings\")\n",
    "pie_chart.get_figure().savefig"
   ]
  },
  {
   "cell_type": "code",
   "execution_count": 22,
   "metadata": {},
   "outputs": [
    {
     "name": "stdout",
     "output_type": "stream",
     "text": [
      "Congratulations! You have enough money in your emergency fund.\n"
     ]
    }
   ],
   "source": [
    "# Set ideal emergency fund\n",
    "emergency_fund = monthly_income * 3\n",
    "\n",
    "# Calculate total amount of savings\n",
    "total_savings = df_savings[\"Value\"].sum()\n",
    "dollars_short = int(total_savings - emergency_fund)\n",
    "\n",
    "# Create messages\n",
    "message = [\n",
    "    f\"Congratulations! You have enough money in your emergency fund.\",\n",
    "    f\"Congratulations! You have reached your financial goal in your emergency fund.\",\n",
    "    f\"You are {dollars_short} short from reaching your emergency fund.\"\n",
    "]\n",
    "\n",
    "# Validate saving health\n",
    "if total_savings > emergency_fund:\n",
    "    print(message[0])\n",
    "elif total_savings == emergency_fund:\n",
    "    print(message[1])\n",
    "else:\n",
    "    print(message[2])"
   ]
  },
  {
   "cell_type": "markdown",
   "metadata": {},
   "source": [
    "## Part 2 - Retirement Planning\n",
    "\n",
    "### Monte Carlo Simulation"
   ]
  },
  {
   "cell_type": "code",
   "execution_count": 23,
   "metadata": {},
   "outputs": [],
   "source": [
    "# Set start and end dates of five years back from today.\n",
    "# Sample results may vary from the solution based on the time frame chosen\n",
    "start_date = pd.Timestamp('2015-10-14', tz='America/Los_Angeles').isoformat()\n",
    "end_date = pd.Timestamp('2020-10-14', tz='America/Los_Angeles').isoformat()"
   ]
  },
  {
   "cell_type": "code",
   "execution_count": 25,
   "metadata": {},
   "outputs": [
    {
     "data": {
      "text/html": [
       "<div>\n",
       "<style scoped>\n",
       "    .dataframe tbody tr th:only-of-type {\n",
       "        vertical-align: middle;\n",
       "    }\n",
       "\n",
       "    .dataframe tbody tr th {\n",
       "        vertical-align: top;\n",
       "    }\n",
       "\n",
       "    .dataframe thead tr th {\n",
       "        text-align: left;\n",
       "    }\n",
       "</style>\n",
       "<table border=\"1\" class=\"dataframe\">\n",
       "  <thead>\n",
       "    <tr>\n",
       "      <th></th>\n",
       "      <th colspan=\"5\" halign=\"left\">AGG</th>\n",
       "      <th colspan=\"5\" halign=\"left\">SPY</th>\n",
       "    </tr>\n",
       "    <tr>\n",
       "      <th></th>\n",
       "      <th>open</th>\n",
       "      <th>high</th>\n",
       "      <th>low</th>\n",
       "      <th>close</th>\n",
       "      <th>volume</th>\n",
       "      <th>open</th>\n",
       "      <th>high</th>\n",
       "      <th>low</th>\n",
       "      <th>close</th>\n",
       "      <th>volume</th>\n",
       "    </tr>\n",
       "  </thead>\n",
       "  <tbody>\n",
       "    <tr>\n",
       "      <th>2015-10-14 00:00:00-04:00</th>\n",
       "      <td>109.83</td>\n",
       "      <td>110.0500</td>\n",
       "      <td>109.7251</td>\n",
       "      <td>110.03</td>\n",
       "      <td>3785661.0</td>\n",
       "      <td>200.18</td>\n",
       "      <td>200.87</td>\n",
       "      <td>198.9400</td>\n",
       "      <td>199.27</td>\n",
       "      <td>82856686</td>\n",
       "    </tr>\n",
       "    <tr>\n",
       "      <th>2015-10-15 00:00:00-04:00</th>\n",
       "      <td>109.93</td>\n",
       "      <td>110.0499</td>\n",
       "      <td>109.7900</td>\n",
       "      <td>109.89</td>\n",
       "      <td>1792325.0</td>\n",
       "      <td>200.08</td>\n",
       "      <td>202.34</td>\n",
       "      <td>199.6400</td>\n",
       "      <td>202.33</td>\n",
       "      <td>96008389</td>\n",
       "    </tr>\n",
       "    <tr>\n",
       "      <th>2015-10-16 00:00:00-04:00</th>\n",
       "      <td>109.90</td>\n",
       "      <td>109.9400</td>\n",
       "      <td>109.7800</td>\n",
       "      <td>109.78</td>\n",
       "      <td>1497588.0</td>\n",
       "      <td>202.83</td>\n",
       "      <td>203.29</td>\n",
       "      <td>201.9200</td>\n",
       "      <td>203.14</td>\n",
       "      <td>79323870</td>\n",
       "    </tr>\n",
       "    <tr>\n",
       "      <th>2015-10-19 00:00:00-04:00</th>\n",
       "      <td>109.78</td>\n",
       "      <td>109.8950</td>\n",
       "      <td>109.6500</td>\n",
       "      <td>109.85</td>\n",
       "      <td>1289942.0</td>\n",
       "      <td>202.50</td>\n",
       "      <td>203.37</td>\n",
       "      <td>202.1300</td>\n",
       "      <td>203.33</td>\n",
       "      <td>61255929</td>\n",
       "    </tr>\n",
       "    <tr>\n",
       "      <th>2015-10-20 00:00:00-04:00</th>\n",
       "      <td>109.64</td>\n",
       "      <td>109.7800</td>\n",
       "      <td>109.5500</td>\n",
       "      <td>109.65</td>\n",
       "      <td>1672562.0</td>\n",
       "      <td>202.85</td>\n",
       "      <td>203.84</td>\n",
       "      <td>202.5471</td>\n",
       "      <td>203.07</td>\n",
       "      <td>60081395</td>\n",
       "    </tr>\n",
       "  </tbody>\n",
       "</table>\n",
       "</div>"
      ],
      "text/plain": [
       "                              AGG                                         \\\n",
       "                             open      high       low   close     volume   \n",
       "2015-10-14 00:00:00-04:00  109.83  110.0500  109.7251  110.03  3785661.0   \n",
       "2015-10-15 00:00:00-04:00  109.93  110.0499  109.7900  109.89  1792325.0   \n",
       "2015-10-16 00:00:00-04:00  109.90  109.9400  109.7800  109.78  1497588.0   \n",
       "2015-10-19 00:00:00-04:00  109.78  109.8950  109.6500  109.85  1289942.0   \n",
       "2015-10-20 00:00:00-04:00  109.64  109.7800  109.5500  109.65  1672562.0   \n",
       "\n",
       "                              SPY                                      \n",
       "                             open    high       low   close    volume  \n",
       "2015-10-14 00:00:00-04:00  200.18  200.87  198.9400  199.27  82856686  \n",
       "2015-10-15 00:00:00-04:00  200.08  202.34  199.6400  202.33  96008389  \n",
       "2015-10-16 00:00:00-04:00  202.83  203.29  201.9200  203.14  79323870  \n",
       "2015-10-19 00:00:00-04:00  202.50  203.37  202.1300  203.33  61255929  \n",
       "2015-10-20 00:00:00-04:00  202.85  203.84  202.5471  203.07  60081395  "
      ]
     },
     "execution_count": 25,
     "metadata": {},
     "output_type": "execute_result"
    }
   ],
   "source": [
    "# Get 5 years' worth of historical data for SPY and AGG\n",
    "# Set the SPY and AGG tickers\n",
    "ticker = [\"SPY\",\"AGG\"]\n",
    "\n",
    "# Set timeframe to '1D'\n",
    "timeframe = \"1D\"\n",
    "\n",
    "# Get 5 years' worth of historical data for SPY and AGG\n",
    "df_stock_data = alpaca.get_barset(ticker, timeframe, start=start_date, end=end_date).df\n",
    "\n",
    "# Display sample data\n",
    "df_stock_data.head()"
   ]
  },
  {
   "cell_type": "code",
   "execution_count": 33,
   "metadata": {},
   "outputs": [],
   "source": [
    "# Configuring a Monte Carlo simulation to forecast 30 years cumulative returns\n",
    "mc_cum_returns = MCSimulation(portfolio_data = df_stock_data, weights=(0.4, 0.6), num_simulation=500, num_trading_days=252*30)"
   ]
  },
  {
   "cell_type": "code",
   "execution_count": 34,
   "metadata": {},
   "outputs": [
    {
     "data": {
      "text/html": [
       "<div>\n",
       "<style scoped>\n",
       "    .dataframe tbody tr th:only-of-type {\n",
       "        vertical-align: middle;\n",
       "    }\n",
       "\n",
       "    .dataframe tbody tr th {\n",
       "        vertical-align: top;\n",
       "    }\n",
       "\n",
       "    .dataframe thead tr th {\n",
       "        text-align: left;\n",
       "    }\n",
       "</style>\n",
       "<table border=\"1\" class=\"dataframe\">\n",
       "  <thead>\n",
       "    <tr>\n",
       "      <th></th>\n",
       "      <th colspan=\"6\" halign=\"left\">AGG</th>\n",
       "      <th colspan=\"6\" halign=\"left\">SPY</th>\n",
       "    </tr>\n",
       "    <tr>\n",
       "      <th></th>\n",
       "      <th>open</th>\n",
       "      <th>high</th>\n",
       "      <th>low</th>\n",
       "      <th>close</th>\n",
       "      <th>volume</th>\n",
       "      <th>daily_return</th>\n",
       "      <th>open</th>\n",
       "      <th>high</th>\n",
       "      <th>low</th>\n",
       "      <th>close</th>\n",
       "      <th>volume</th>\n",
       "      <th>daily_return</th>\n",
       "    </tr>\n",
       "  </thead>\n",
       "  <tbody>\n",
       "    <tr>\n",
       "      <th>2015-10-14 00:00:00-04:00</th>\n",
       "      <td>109.83</td>\n",
       "      <td>110.0500</td>\n",
       "      <td>109.7251</td>\n",
       "      <td>110.03</td>\n",
       "      <td>3785661.0</td>\n",
       "      <td>NaN</td>\n",
       "      <td>200.18</td>\n",
       "      <td>200.87</td>\n",
       "      <td>198.9400</td>\n",
       "      <td>199.27</td>\n",
       "      <td>82856686</td>\n",
       "      <td>NaN</td>\n",
       "    </tr>\n",
       "    <tr>\n",
       "      <th>2015-10-15 00:00:00-04:00</th>\n",
       "      <td>109.93</td>\n",
       "      <td>110.0499</td>\n",
       "      <td>109.7900</td>\n",
       "      <td>109.89</td>\n",
       "      <td>1792325.0</td>\n",
       "      <td>-0.001272</td>\n",
       "      <td>200.08</td>\n",
       "      <td>202.34</td>\n",
       "      <td>199.6400</td>\n",
       "      <td>202.33</td>\n",
       "      <td>96008389</td>\n",
       "      <td>0.015356</td>\n",
       "    </tr>\n",
       "    <tr>\n",
       "      <th>2015-10-16 00:00:00-04:00</th>\n",
       "      <td>109.90</td>\n",
       "      <td>109.9400</td>\n",
       "      <td>109.7800</td>\n",
       "      <td>109.78</td>\n",
       "      <td>1497588.0</td>\n",
       "      <td>-0.001001</td>\n",
       "      <td>202.83</td>\n",
       "      <td>203.29</td>\n",
       "      <td>201.9200</td>\n",
       "      <td>203.14</td>\n",
       "      <td>79323870</td>\n",
       "      <td>0.004003</td>\n",
       "    </tr>\n",
       "    <tr>\n",
       "      <th>2015-10-19 00:00:00-04:00</th>\n",
       "      <td>109.78</td>\n",
       "      <td>109.8950</td>\n",
       "      <td>109.6500</td>\n",
       "      <td>109.85</td>\n",
       "      <td>1289942.0</td>\n",
       "      <td>0.000638</td>\n",
       "      <td>202.50</td>\n",
       "      <td>203.37</td>\n",
       "      <td>202.1300</td>\n",
       "      <td>203.33</td>\n",
       "      <td>61255929</td>\n",
       "      <td>0.000935</td>\n",
       "    </tr>\n",
       "    <tr>\n",
       "      <th>2015-10-20 00:00:00-04:00</th>\n",
       "      <td>109.64</td>\n",
       "      <td>109.7800</td>\n",
       "      <td>109.5500</td>\n",
       "      <td>109.65</td>\n",
       "      <td>1672562.0</td>\n",
       "      <td>-0.001821</td>\n",
       "      <td>202.85</td>\n",
       "      <td>203.84</td>\n",
       "      <td>202.5471</td>\n",
       "      <td>203.07</td>\n",
       "      <td>60081395</td>\n",
       "      <td>-0.001279</td>\n",
       "    </tr>\n",
       "  </tbody>\n",
       "</table>\n",
       "</div>"
      ],
      "text/plain": [
       "                              AGG                                         \\\n",
       "                             open      high       low   close     volume   \n",
       "2015-10-14 00:00:00-04:00  109.83  110.0500  109.7251  110.03  3785661.0   \n",
       "2015-10-15 00:00:00-04:00  109.93  110.0499  109.7900  109.89  1792325.0   \n",
       "2015-10-16 00:00:00-04:00  109.90  109.9400  109.7800  109.78  1497588.0   \n",
       "2015-10-19 00:00:00-04:00  109.78  109.8950  109.6500  109.85  1289942.0   \n",
       "2015-10-20 00:00:00-04:00  109.64  109.7800  109.5500  109.65  1672562.0   \n",
       "\n",
       "                                           SPY                            \\\n",
       "                          daily_return    open    high       low   close   \n",
       "2015-10-14 00:00:00-04:00          NaN  200.18  200.87  198.9400  199.27   \n",
       "2015-10-15 00:00:00-04:00    -0.001272  200.08  202.34  199.6400  202.33   \n",
       "2015-10-16 00:00:00-04:00    -0.001001  202.83  203.29  201.9200  203.14   \n",
       "2015-10-19 00:00:00-04:00     0.000638  202.50  203.37  202.1300  203.33   \n",
       "2015-10-20 00:00:00-04:00    -0.001821  202.85  203.84  202.5471  203.07   \n",
       "\n",
       "                                                  \n",
       "                             volume daily_return  \n",
       "2015-10-14 00:00:00-04:00  82856686          NaN  \n",
       "2015-10-15 00:00:00-04:00  96008389     0.015356  \n",
       "2015-10-16 00:00:00-04:00  79323870     0.004003  \n",
       "2015-10-19 00:00:00-04:00  61255929     0.000935  \n",
       "2015-10-20 00:00:00-04:00  60081395    -0.001279  "
      ]
     },
     "execution_count": 34,
     "metadata": {},
     "output_type": "execute_result"
    }
   ],
   "source": [
    "# Printing the simulation input data\n",
    "mc_cum_returns.portfolio_data.head()"
   ]
  },
  {
   "cell_type": "code",
   "execution_count": 32,
   "metadata": {},
   "outputs": [
    {
     "data": {
      "text/plain": [
       "<MCForecastTools.MCSimulation at 0x7f87fa1261d0>"
      ]
     },
     "execution_count": 32,
     "metadata": {},
     "output_type": "execute_result"
    }
   ],
   "source": [
    "# Printing the simulation input data\n",
    "mc_cum_returns"
   ]
  },
  {
   "cell_type": "code",
   "execution_count": 35,
   "metadata": {},
   "outputs": [
    {
     "name": "stdout",
     "output_type": "stream",
     "text": [
      "Running Monte Carlo simulation number 0.\n",
      "Running Monte Carlo simulation number 10.\n",
      "Running Monte Carlo simulation number 20.\n",
      "Running Monte Carlo simulation number 30.\n",
      "Running Monte Carlo simulation number 40.\n",
      "Running Monte Carlo simulation number 50.\n",
      "Running Monte Carlo simulation number 60.\n",
      "Running Monte Carlo simulation number 70.\n",
      "Running Monte Carlo simulation number 80.\n",
      "Running Monte Carlo simulation number 90.\n",
      "Running Monte Carlo simulation number 100.\n",
      "Running Monte Carlo simulation number 110.\n",
      "Running Monte Carlo simulation number 120.\n",
      "Running Monte Carlo simulation number 130.\n",
      "Running Monte Carlo simulation number 140.\n",
      "Running Monte Carlo simulation number 150.\n",
      "Running Monte Carlo simulation number 160.\n",
      "Running Monte Carlo simulation number 170.\n",
      "Running Monte Carlo simulation number 180.\n",
      "Running Monte Carlo simulation number 190.\n",
      "Running Monte Carlo simulation number 200.\n",
      "Running Monte Carlo simulation number 210.\n",
      "Running Monte Carlo simulation number 220.\n",
      "Running Monte Carlo simulation number 230.\n",
      "Running Monte Carlo simulation number 240.\n",
      "Running Monte Carlo simulation number 250.\n",
      "Running Monte Carlo simulation number 260.\n",
      "Running Monte Carlo simulation number 270.\n",
      "Running Monte Carlo simulation number 280.\n",
      "Running Monte Carlo simulation number 290.\n",
      "Running Monte Carlo simulation number 300.\n",
      "Running Monte Carlo simulation number 310.\n",
      "Running Monte Carlo simulation number 320.\n",
      "Running Monte Carlo simulation number 330.\n",
      "Running Monte Carlo simulation number 340.\n",
      "Running Monte Carlo simulation number 350.\n",
      "Running Monte Carlo simulation number 360.\n",
      "Running Monte Carlo simulation number 370.\n",
      "Running Monte Carlo simulation number 380.\n",
      "Running Monte Carlo simulation number 390.\n",
      "Running Monte Carlo simulation number 400.\n",
      "Running Monte Carlo simulation number 410.\n",
      "Running Monte Carlo simulation number 420.\n",
      "Running Monte Carlo simulation number 430.\n",
      "Running Monte Carlo simulation number 440.\n",
      "Running Monte Carlo simulation number 450.\n",
      "Running Monte Carlo simulation number 460.\n",
      "Running Monte Carlo simulation number 470.\n",
      "Running Monte Carlo simulation number 480.\n",
      "Running Monte Carlo simulation number 490.\n"
     ]
    },
    {
     "data": {
      "text/html": [
       "<div>\n",
       "<style scoped>\n",
       "    .dataframe tbody tr th:only-of-type {\n",
       "        vertical-align: middle;\n",
       "    }\n",
       "\n",
       "    .dataframe tbody tr th {\n",
       "        vertical-align: top;\n",
       "    }\n",
       "\n",
       "    .dataframe thead th {\n",
       "        text-align: right;\n",
       "    }\n",
       "</style>\n",
       "<table border=\"1\" class=\"dataframe\">\n",
       "  <thead>\n",
       "    <tr style=\"text-align: right;\">\n",
       "      <th></th>\n",
       "      <th>0</th>\n",
       "      <th>1</th>\n",
       "      <th>2</th>\n",
       "      <th>3</th>\n",
       "      <th>4</th>\n",
       "      <th>5</th>\n",
       "      <th>6</th>\n",
       "      <th>7</th>\n",
       "      <th>8</th>\n",
       "      <th>9</th>\n",
       "      <th>...</th>\n",
       "      <th>490</th>\n",
       "      <th>491</th>\n",
       "      <th>492</th>\n",
       "      <th>493</th>\n",
       "      <th>494</th>\n",
       "      <th>495</th>\n",
       "      <th>496</th>\n",
       "      <th>497</th>\n",
       "      <th>498</th>\n",
       "      <th>499</th>\n",
       "    </tr>\n",
       "  </thead>\n",
       "  <tbody>\n",
       "    <tr>\n",
       "      <th>0</th>\n",
       "      <td>1.000000</td>\n",
       "      <td>1.000000</td>\n",
       "      <td>1.000000</td>\n",
       "      <td>1.000000</td>\n",
       "      <td>1.000000</td>\n",
       "      <td>1.000000</td>\n",
       "      <td>1.000000</td>\n",
       "      <td>1.000000</td>\n",
       "      <td>1.000000</td>\n",
       "      <td>1.000000</td>\n",
       "      <td>...</td>\n",
       "      <td>1.000000</td>\n",
       "      <td>1.000000</td>\n",
       "      <td>1.000000</td>\n",
       "      <td>1.000000</td>\n",
       "      <td>1.000000</td>\n",
       "      <td>1.000000</td>\n",
       "      <td>1.000000</td>\n",
       "      <td>1.000000</td>\n",
       "      <td>1.000000</td>\n",
       "      <td>1.000000</td>\n",
       "    </tr>\n",
       "    <tr>\n",
       "      <th>1</th>\n",
       "      <td>0.990290</td>\n",
       "      <td>1.007029</td>\n",
       "      <td>1.002529</td>\n",
       "      <td>1.003949</td>\n",
       "      <td>0.996730</td>\n",
       "      <td>1.004085</td>\n",
       "      <td>1.008346</td>\n",
       "      <td>1.003480</td>\n",
       "      <td>1.001143</td>\n",
       "      <td>0.993576</td>\n",
       "      <td>...</td>\n",
       "      <td>1.000114</td>\n",
       "      <td>1.009594</td>\n",
       "      <td>1.003042</td>\n",
       "      <td>1.003371</td>\n",
       "      <td>1.003764</td>\n",
       "      <td>0.994523</td>\n",
       "      <td>0.991264</td>\n",
       "      <td>1.001049</td>\n",
       "      <td>1.019081</td>\n",
       "      <td>1.002240</td>\n",
       "    </tr>\n",
       "    <tr>\n",
       "      <th>2</th>\n",
       "      <td>0.996484</td>\n",
       "      <td>1.009823</td>\n",
       "      <td>1.007975</td>\n",
       "      <td>1.014700</td>\n",
       "      <td>0.987792</td>\n",
       "      <td>1.000030</td>\n",
       "      <td>1.004727</td>\n",
       "      <td>1.017789</td>\n",
       "      <td>1.002962</td>\n",
       "      <td>1.000563</td>\n",
       "      <td>...</td>\n",
       "      <td>1.002360</td>\n",
       "      <td>1.021107</td>\n",
       "      <td>1.003196</td>\n",
       "      <td>0.999893</td>\n",
       "      <td>1.010420</td>\n",
       "      <td>0.997741</td>\n",
       "      <td>0.997012</td>\n",
       "      <td>1.008575</td>\n",
       "      <td>1.033637</td>\n",
       "      <td>1.003274</td>\n",
       "    </tr>\n",
       "    <tr>\n",
       "      <th>3</th>\n",
       "      <td>1.002389</td>\n",
       "      <td>1.026774</td>\n",
       "      <td>0.996244</td>\n",
       "      <td>1.026489</td>\n",
       "      <td>0.987529</td>\n",
       "      <td>0.993618</td>\n",
       "      <td>1.013264</td>\n",
       "      <td>1.027535</td>\n",
       "      <td>0.999925</td>\n",
       "      <td>0.994477</td>\n",
       "      <td>...</td>\n",
       "      <td>1.015953</td>\n",
       "      <td>1.018098</td>\n",
       "      <td>0.989307</td>\n",
       "      <td>1.003587</td>\n",
       "      <td>1.002669</td>\n",
       "      <td>0.997173</td>\n",
       "      <td>1.005903</td>\n",
       "      <td>0.999023</td>\n",
       "      <td>1.030099</td>\n",
       "      <td>1.009652</td>\n",
       "    </tr>\n",
       "    <tr>\n",
       "      <th>4</th>\n",
       "      <td>0.993789</td>\n",
       "      <td>1.031000</td>\n",
       "      <td>0.998201</td>\n",
       "      <td>1.033154</td>\n",
       "      <td>0.996962</td>\n",
       "      <td>0.990625</td>\n",
       "      <td>1.012325</td>\n",
       "      <td>1.029435</td>\n",
       "      <td>0.995938</td>\n",
       "      <td>0.997512</td>\n",
       "      <td>...</td>\n",
       "      <td>1.028489</td>\n",
       "      <td>1.012214</td>\n",
       "      <td>0.988605</td>\n",
       "      <td>1.007286</td>\n",
       "      <td>0.992529</td>\n",
       "      <td>0.997194</td>\n",
       "      <td>1.020065</td>\n",
       "      <td>1.002000</td>\n",
       "      <td>1.021934</td>\n",
       "      <td>1.012951</td>\n",
       "    </tr>\n",
       "    <tr>\n",
       "      <th>...</th>\n",
       "      <td>...</td>\n",
       "      <td>...</td>\n",
       "      <td>...</td>\n",
       "      <td>...</td>\n",
       "      <td>...</td>\n",
       "      <td>...</td>\n",
       "      <td>...</td>\n",
       "      <td>...</td>\n",
       "      <td>...</td>\n",
       "      <td>...</td>\n",
       "      <td>...</td>\n",
       "      <td>...</td>\n",
       "      <td>...</td>\n",
       "      <td>...</td>\n",
       "      <td>...</td>\n",
       "      <td>...</td>\n",
       "      <td>...</td>\n",
       "      <td>...</td>\n",
       "      <td>...</td>\n",
       "      <td>...</td>\n",
       "      <td>...</td>\n",
       "    </tr>\n",
       "    <tr>\n",
       "      <th>7556</th>\n",
       "      <td>13.935206</td>\n",
       "      <td>3.782978</td>\n",
       "      <td>9.144586</td>\n",
       "      <td>8.535802</td>\n",
       "      <td>2.031251</td>\n",
       "      <td>7.743347</td>\n",
       "      <td>24.928725</td>\n",
       "      <td>22.421382</td>\n",
       "      <td>42.913360</td>\n",
       "      <td>7.213830</td>\n",
       "      <td>...</td>\n",
       "      <td>7.592134</td>\n",
       "      <td>6.406218</td>\n",
       "      <td>5.079997</td>\n",
       "      <td>10.012275</td>\n",
       "      <td>13.635790</td>\n",
       "      <td>3.979731</td>\n",
       "      <td>10.710725</td>\n",
       "      <td>9.945876</td>\n",
       "      <td>20.507761</td>\n",
       "      <td>42.262919</td>\n",
       "    </tr>\n",
       "    <tr>\n",
       "      <th>7557</th>\n",
       "      <td>13.879885</td>\n",
       "      <td>3.813979</td>\n",
       "      <td>9.214955</td>\n",
       "      <td>8.493419</td>\n",
       "      <td>2.034577</td>\n",
       "      <td>7.742920</td>\n",
       "      <td>25.047776</td>\n",
       "      <td>22.643048</td>\n",
       "      <td>43.040602</td>\n",
       "      <td>7.138858</td>\n",
       "      <td>...</td>\n",
       "      <td>7.559403</td>\n",
       "      <td>6.415021</td>\n",
       "      <td>5.100131</td>\n",
       "      <td>10.062422</td>\n",
       "      <td>13.616260</td>\n",
       "      <td>3.949942</td>\n",
       "      <td>10.616687</td>\n",
       "      <td>10.029116</td>\n",
       "      <td>20.325495</td>\n",
       "      <td>42.279528</td>\n",
       "    </tr>\n",
       "    <tr>\n",
       "      <th>7558</th>\n",
       "      <td>13.970903</td>\n",
       "      <td>3.787134</td>\n",
       "      <td>9.145816</td>\n",
       "      <td>8.451113</td>\n",
       "      <td>2.030243</td>\n",
       "      <td>7.806581</td>\n",
       "      <td>25.089741</td>\n",
       "      <td>22.592684</td>\n",
       "      <td>43.347259</td>\n",
       "      <td>7.170220</td>\n",
       "      <td>...</td>\n",
       "      <td>7.519777</td>\n",
       "      <td>6.360825</td>\n",
       "      <td>5.069375</td>\n",
       "      <td>10.082638</td>\n",
       "      <td>13.514796</td>\n",
       "      <td>3.915385</td>\n",
       "      <td>10.435994</td>\n",
       "      <td>10.039296</td>\n",
       "      <td>20.184241</td>\n",
       "      <td>41.689271</td>\n",
       "    </tr>\n",
       "    <tr>\n",
       "      <th>7559</th>\n",
       "      <td>13.995534</td>\n",
       "      <td>3.790678</td>\n",
       "      <td>9.248003</td>\n",
       "      <td>8.508418</td>\n",
       "      <td>2.005077</td>\n",
       "      <td>7.799598</td>\n",
       "      <td>24.833181</td>\n",
       "      <td>22.361337</td>\n",
       "      <td>43.361972</td>\n",
       "      <td>7.158609</td>\n",
       "      <td>...</td>\n",
       "      <td>7.429208</td>\n",
       "      <td>6.401077</td>\n",
       "      <td>5.067789</td>\n",
       "      <td>10.129204</td>\n",
       "      <td>13.607597</td>\n",
       "      <td>3.941553</td>\n",
       "      <td>10.501140</td>\n",
       "      <td>10.089596</td>\n",
       "      <td>20.023622</td>\n",
       "      <td>42.036928</td>\n",
       "    </tr>\n",
       "    <tr>\n",
       "      <th>7560</th>\n",
       "      <td>13.879190</td>\n",
       "      <td>3.807747</td>\n",
       "      <td>9.126657</td>\n",
       "      <td>8.433251</td>\n",
       "      <td>2.015431</td>\n",
       "      <td>7.721013</td>\n",
       "      <td>24.722205</td>\n",
       "      <td>22.232607</td>\n",
       "      <td>42.817097</td>\n",
       "      <td>7.165302</td>\n",
       "      <td>...</td>\n",
       "      <td>7.485250</td>\n",
       "      <td>6.376737</td>\n",
       "      <td>5.103091</td>\n",
       "      <td>10.079887</td>\n",
       "      <td>13.711461</td>\n",
       "      <td>3.977257</td>\n",
       "      <td>10.462320</td>\n",
       "      <td>10.059324</td>\n",
       "      <td>19.897794</td>\n",
       "      <td>42.295644</td>\n",
       "    </tr>\n",
       "  </tbody>\n",
       "</table>\n",
       "<p>7561 rows × 500 columns</p>\n",
       "</div>"
      ],
      "text/plain": [
       "            0         1         2         3         4         5          6    \\\n",
       "0      1.000000  1.000000  1.000000  1.000000  1.000000  1.000000   1.000000   \n",
       "1      0.990290  1.007029  1.002529  1.003949  0.996730  1.004085   1.008346   \n",
       "2      0.996484  1.009823  1.007975  1.014700  0.987792  1.000030   1.004727   \n",
       "3      1.002389  1.026774  0.996244  1.026489  0.987529  0.993618   1.013264   \n",
       "4      0.993789  1.031000  0.998201  1.033154  0.996962  0.990625   1.012325   \n",
       "...         ...       ...       ...       ...       ...       ...        ...   \n",
       "7556  13.935206  3.782978  9.144586  8.535802  2.031251  7.743347  24.928725   \n",
       "7557  13.879885  3.813979  9.214955  8.493419  2.034577  7.742920  25.047776   \n",
       "7558  13.970903  3.787134  9.145816  8.451113  2.030243  7.806581  25.089741   \n",
       "7559  13.995534  3.790678  9.248003  8.508418  2.005077  7.799598  24.833181   \n",
       "7560  13.879190  3.807747  9.126657  8.433251  2.015431  7.721013  24.722205   \n",
       "\n",
       "            7          8         9    ...       490       491       492  \\\n",
       "0      1.000000   1.000000  1.000000  ...  1.000000  1.000000  1.000000   \n",
       "1      1.003480   1.001143  0.993576  ...  1.000114  1.009594  1.003042   \n",
       "2      1.017789   1.002962  1.000563  ...  1.002360  1.021107  1.003196   \n",
       "3      1.027535   0.999925  0.994477  ...  1.015953  1.018098  0.989307   \n",
       "4      1.029435   0.995938  0.997512  ...  1.028489  1.012214  0.988605   \n",
       "...         ...        ...       ...  ...       ...       ...       ...   \n",
       "7556  22.421382  42.913360  7.213830  ...  7.592134  6.406218  5.079997   \n",
       "7557  22.643048  43.040602  7.138858  ...  7.559403  6.415021  5.100131   \n",
       "7558  22.592684  43.347259  7.170220  ...  7.519777  6.360825  5.069375   \n",
       "7559  22.361337  43.361972  7.158609  ...  7.429208  6.401077  5.067789   \n",
       "7560  22.232607  42.817097  7.165302  ...  7.485250  6.376737  5.103091   \n",
       "\n",
       "            493        494       495        496        497        498  \\\n",
       "0      1.000000   1.000000  1.000000   1.000000   1.000000   1.000000   \n",
       "1      1.003371   1.003764  0.994523   0.991264   1.001049   1.019081   \n",
       "2      0.999893   1.010420  0.997741   0.997012   1.008575   1.033637   \n",
       "3      1.003587   1.002669  0.997173   1.005903   0.999023   1.030099   \n",
       "4      1.007286   0.992529  0.997194   1.020065   1.002000   1.021934   \n",
       "...         ...        ...       ...        ...        ...        ...   \n",
       "7556  10.012275  13.635790  3.979731  10.710725   9.945876  20.507761   \n",
       "7557  10.062422  13.616260  3.949942  10.616687  10.029116  20.325495   \n",
       "7558  10.082638  13.514796  3.915385  10.435994  10.039296  20.184241   \n",
       "7559  10.129204  13.607597  3.941553  10.501140  10.089596  20.023622   \n",
       "7560  10.079887  13.711461  3.977257  10.462320  10.059324  19.897794   \n",
       "\n",
       "            499  \n",
       "0      1.000000  \n",
       "1      1.002240  \n",
       "2      1.003274  \n",
       "3      1.009652  \n",
       "4      1.012951  \n",
       "...         ...  \n",
       "7556  42.262919  \n",
       "7557  42.279528  \n",
       "7558  41.689271  \n",
       "7559  42.036928  \n",
       "7560  42.295644  \n",
       "\n",
       "[7561 rows x 500 columns]"
      ]
     },
     "execution_count": 35,
     "metadata": {},
     "output_type": "execute_result"
    }
   ],
   "source": [
    "# Running a Monte Carlo simulation to forecast 30 years cumulative returns\n",
    "mc_cum_returns.calc_cumulative_return()"
   ]
  },
  {
   "cell_type": "code",
   "execution_count": 36,
   "metadata": {},
   "outputs": [
    {
     "data": {
      "text/plain": [
       "<matplotlib.axes._subplots.AxesSubplot at 0x7f87fa12c050>"
      ]
     },
     "execution_count": 36,
     "metadata": {},
     "output_type": "execute_result"
    },
    {
     "data": {
      "image/png": "[encoded data removed]",
      "text/plain": [
       "<Figure size 432x288 with 1 Axes>"
      ]
     },
     "metadata": {
      "needs_background": "light"
     },
     "output_type": "display_data"
    }
   ],
   "source": [
    "# Plot simulation outcomes\n",
    "mc_cum_returns.plot_simulation()"
   ]
  },
  {
   "cell_type": "code",
   "execution_count": 37,
   "metadata": {},
   "outputs": [
    {
     "data": {
      "text/plain": [
       "<matplotlib.axes._subplots.AxesSubplot at 0x7f87d2b31150>"
      ]
     },
     "execution_count": 37,
     "metadata": {},
     "output_type": "execute_result"
    },
    {
     "data": {
      "image/png": "[encoded data removed]",
      "text/plain": [
       "<Figure size 432x288 with 1 Axes>"
      ]
     },
     "metadata": {
      "needs_background": "light"
     },
     "output_type": "display_data"
    }
   ],
   "source": [
    "# Plot probability distribution and confidence intervals\n",
    "mc_cum_returns.plot_distribution()"
   ]
  },
  {
   "cell_type": "markdown",
   "metadata": {},
   "source": [
    "### Retirement Analysis"
   ]
  },
  {
   "cell_type": "code",
   "execution_count": 38,
   "metadata": {},
   "outputs": [
    {
     "name": "stdout",
     "output_type": "stream",
     "text": [
      "count           500.000000\n",
      "mean             11.963997\n",
      "std               8.298909\n",
      "min               0.945020\n",
      "25%               6.546928\n",
      "50%               9.585987\n",
      "75%              15.180868\n",
      "max              60.207204\n",
      "95% CI Lower      2.692467\n",
      "95% CI Upper     34.556621\n",
      "Name: 7560, dtype: float64\n"
     ]
    }
   ],
   "source": [
    "# Fetch summary statistics from the Monte Carlo simulation results\n",
    "tbl = mc_cum_returns.summarize_cumulative_return()\n",
    "\n",
    "# Print summary statistics\n",
    "print(tbl)"
   ]
  },
  {
   "cell_type": "markdown",
   "metadata": {},
   "source": [
    "### Calculate the expected portfolio return at the 95% lower and upper confidence intervals based on a `$20,000` initial investment."
   ]
  },
  {
   "cell_type": "code",
   "execution_count": 39,
   "metadata": {},
   "outputs": [
    {
     "name": "stdout",
     "output_type": "stream",
     "text": [
      "There is a 95% chance that an initial investment of $20000 in the portfolio over the next 30 years will end within in the range of $53849.35 and $691132.41\n"
     ]
    }
   ],
   "source": [
    "# Set initial investment\n",
    "initial_investment = 20000\n",
    "\n",
    "# Use the lower and upper `95%` confidence intervals to calculate the range of the possible outcomes of our $20,000\n",
    "ci_lower = round(tbl[8]*20000, 2)\n",
    "ci_upper = round(tbl[9]*20000, 2)\n",
    "\n",
    "# Print results\n",
    "print(f\"There is a 95% chance that an initial investment of ${initial_investment} in the portfolio\"\n",
    "      f\" over the next 30 years will end within in the range of\"\n",
    "      f\" ${ci_lower} and ${ci_upper}\")"
   ]
  },
  {
   "cell_type": "markdown",
   "metadata": {},
   "source": [
    "### Calculate the expected portfolio return at the `95%` lower and upper confidence intervals based on a `50%` increase in the initial investment."
   ]
  },
  {
   "cell_type": "code",
   "execution_count": 40,
   "metadata": {},
   "outputs": [
    {
     "name": "stdout",
     "output_type": "stream",
     "text": [
      "There is a 95% chance that an initial investment of $30000.0 in the portfolio over the next 30 years will end within in the range of $80774.02 and $1036698.62\n"
     ]
    }
   ],
   "source": [
    "# Set initial investment\n",
    "initial_investment = 20000 * 1.5\n",
    "\n",
    "# Use the lower and upper `95%` confidence intervals to calculate the range of the possible outcomes of our $30,000\n",
    "ci_lower = round(tbl[8]*30000, 2)\n",
    "ci_upper = round(tbl[9]*30000, 2)\n",
    "\n",
    "# Print results\n",
    "print(f\"There is a 95% chance that an initial investment of ${initial_investment} in the portfolio\"\n",
    "      f\" over the next 30 years will end within in the range of\"\n",
    "      f\" ${ci_lower} and ${ci_upper}\")"
   ]
  }
 ],
 "metadata": {
  "kernelspec": {
   "display_name": "Python 3",
   "language": "python",
   "name": "python3"
  },
  "language_info": {
   "codemirror_mode": {
    "name": "ipython",
    "version": 3
   },
   "file_extension": ".py",
   "mimetype": "text/x-python",
   "name": "python",
   "nbconvert_exporter": "python",
   "pygments_lexer": "ipython3",
   "version": "3.7.7"
  }
 },
 "nbformat": 4,
 "nbformat_minor": 4
}
